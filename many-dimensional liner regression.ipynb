{
 "cells": [
  {
   "cell_type": "code",
   "execution_count": 1,
   "metadata": {},
   "outputs": [],
   "source": [
    "def ndprint(a, format_string = '{0: .2f}'):\n",
    "    \"\"\"Функция распечатывает список в красивом виде\"\"\"\n",
    "    return [format_string.format(v, 1) for i, v in enumerate(a)]"
   ]
  }
 ],
 "metadata": {
  "interpreter": {
   "hash": "ce4efe31b6cc5ef811e32c4c5c52bc9958fec676e790a8100c8b2bc0699abd04"
  },
  "kernelspec": {
   "display_name": "Python 3.8.8 64-bit ('base': conda)",
   "name": "python3"
  },
  "language_info": {
   "codemirror_mode": {
    "name": "ipython",
    "version": 3
   },
   "file_extension": ".py",
   "mimetype": "text/x-python",
   "name": "python",
   "nbconvert_exporter": "python",
   "pygments_lexer": "ipython3",
   "version": "3.8.8"
  },
  "orig_nbformat": 4
 },
 "nbformat": 4,
 "nbformat_minor": 2
}
